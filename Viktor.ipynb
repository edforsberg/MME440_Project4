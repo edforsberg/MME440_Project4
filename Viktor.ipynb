{
 "cells": [
  {
   "cell_type": "code",
   "execution_count": 7,
   "metadata": {},
   "outputs": [],
   "source": [
    "from sklearn.cluster import KMeans\n",
    "\n",
    "def Kmeans(X,k=2):\n",
    "    # Clusters data into k clusters, where k can be a vector of different integers, \n",
    "    # in which case clustering is made for each k.\n",
    "    if isinstance(k, int):\n",
    "        kmeans = KMeans(n_clusters=k).fit(X)\n",
    "        return kmeans.labels_\n",
    "    \n",
    "    labels = np.zeros([X.shape[0],len(k)])\n",
    "    \n",
    "    for i in range(len(k)):\n",
    "        kmeans = KMeans(n_clusters=k[i]).fit(X)\n",
    "        labels[:,i] = kmeans.labels_\n",
    "    \n",
    "    return labels"
   ]
  },
  {
   "cell_type": "code",
   "execution_count": 9,
   "metadata": {},
   "outputs": [],
   "source": [
    "from sklearn.decomposition import PCA\n",
    "from sklearn.manifold import Isomap\n",
    "\n",
    "\n",
    "nrDataPoints = 1000\n",
    "nrFeatures = 4\n",
    "\n",
    "X = CreateData(nrDataPoints, nrFeatures)\n",
    "\n",
    "nrFeaturesKeep = 2\n",
    "\n",
    "pca = PCA(nrFeaturesKeep)\n",
    "pca = pca.fit(X)\n",
    "\n",
    "isomap = Isomap(n_components=nrFeaturesKeep)\n",
    "isomap = isomap.fit(X)\n",
    "\n",
    "Y_PCA = pca.transform(X)\n",
    "Y_ISO = isomap.transform(X)\n"
   ]
  },
  {
   "cell_type": "code",
   "execution_count": 8,
   "metadata": {},
   "outputs": [],
   "source": [
    "import matplotlib.pyplot as plt\n",
    "import matplotlib\n",
    "import numpy as np\n",
    "import random\n",
    "import math\n",
    "from sklearn.utils import shuffle\n",
    "\n",
    "def CreateData(nrDataPoints = 1000, nrFeatures = 30):\n",
    "    mean = np.zeros(nrFeatures)\n",
    "    var = np.random.rand(nrFeatures)\n",
    "    sigma = np.diag(var)\n",
    "    data = np.random.multivariate_normal(mean,sigma,nrDataPoints)\n",
    "    return data\n"
   ]
  },
  {
   "cell_type": "code",
   "execution_count": 35,
   "metadata": {},
   "outputs": [],
   "source": [
    "from sklearn.metrics import silhouette_score\n",
    "\n",
    "def EvaluateClustering(X,labels):\n",
    "    if len(labels.shape)==1:\n",
    "        score = silhouette_score(X,labels)\n",
    "        return score\n",
    "    score = np.zeros(labels.shape[1])\n",
    "    for i in range(labels.shape[1]):\n",
    "        score[i] = silhouette_score(X,labels[:,i])\n",
    "    return score"
   ]
  },
  {
   "cell_type": "code",
   "execution_count": 24,
   "metadata": {},
   "outputs": [],
   "source": [
    "import pandas as pd\n",
    "import numpy as np\n",
    "from sklearn.cluster import KMeans, MiniBatchKMeans\n",
    "from numpy.random import random_sample\n",
    "from math import sqrt, log\n",
    "\n",
    "\n",
    "# returns series of random values sampled between min and max values of passed col\n",
    "def get_rand_data(col):\n",
    "\trng = col.max() - col.min()\n",
    "\treturn pd.Series(random_sample(len(col))*rng + col.min())\n",
    "\n",
    "def iter_kmeans(df, n_clusters, num_iters=5):\n",
    "\trng =  range(1, num_iters + 1)\n",
    "\tvals = pd.Series(index=rng)\n",
    "\tfor i in rng:\n",
    "\t\tk = KMeans(n_clusters=n_clusters)\n",
    "\t\tk.fit(df)\n",
    "\t\t#print \"Ref k: %s\" % k.get_params()['n_clusters']\n",
    "\t\tvals[i] = k.inertia_\n",
    "\treturn vals\n",
    "\n",
    "def gap_statistic(data, max_k=10):\n",
    "\tdf = pd.DataFrame(data)\n",
    "\tgaps = pd.Series(index = range(1, max_k + 1))\n",
    "\tfor k in range(1, max_k + 1):\n",
    "\t\tkm_act = KMeans(n_clusters=k, n_init=3)\n",
    "\t\tkm_act.fit(df)\n",
    "\n",
    "\t\t# get ref dataset\n",
    "\t\tref = df.apply(get_rand_data)\n",
    "\t\tref_inertia = iter_kmeans(ref, n_clusters=k).mean()\n",
    "\n",
    "\t\tgap = log(ref_inertia) - log(km_act.inertia_)\n",
    "\n",
    "\t\t#print \"Ref: %s   Act: %s  Gap: %s\" % ( ref_inertia, km_act.inertia_, gap)\n",
    "\t\tgaps[k] = gap\n",
    "\n",
    "\treturn gaps\n"
   ]
  },
  {
   "cell_type": "code",
   "execution_count": 25,
   "metadata": {},
   "outputs": [
    {
     "data": {
      "text/plain": [
       "1     1.412842\n",
       "2     1.400787\n",
       "3     1.305895\n",
       "4     1.237148\n",
       "5     1.239167\n",
       "6     1.211493\n",
       "7     1.179472\n",
       "8     1.176165\n",
       "9     1.164047\n",
       "10    1.177190\n",
       "11    1.179122\n",
       "12    1.146588\n",
       "13    1.174855\n",
       "14    1.132608\n",
       "15    1.151829\n",
       "dtype: float64"
      ]
     },
     "execution_count": 25,
     "metadata": {},
     "output_type": "execute_result"
    }
   ],
   "source": [
    "\n",
    "gap_statistic(X,15)"
   ]
  }
 ],
 "metadata": {
  "kernelspec": {
   "display_name": "Python 3",
   "language": "python",
   "name": "python3"
  },
  "language_info": {
   "codemirror_mode": {
    "name": "ipython",
    "version": 3
   },
   "file_extension": ".py",
   "mimetype": "text/x-python",
   "name": "python",
   "nbconvert_exporter": "python",
   "pygments_lexer": "ipython3",
   "version": "3.7.3"
  }
 },
 "nbformat": 4,
 "nbformat_minor": 2
}
