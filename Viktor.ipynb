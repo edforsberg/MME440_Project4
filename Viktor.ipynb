{
 "cells": [
  {
   "cell_type": "code",
   "execution_count": null,
   "metadata": {},
   "outputs": [],
   "source": [
    "def Kmeans(X,k=2):\n",
    "    # Clusters data into k clusters, where k can be a vector of different integers, \n",
    "    # in which case clustering is made for each k.\n",
    "    if isinstance(k, int):\n",
    "        kmeans = KMeans(n_clusters=k).fit(X)\n",
    "        return kmeans.labels_\n",
    "    \n",
    "    labels = np.zeros([X.shape[0],len(k)])\n",
    "    \n",
    "    for i in range(len(k)):\n",
    "        kmeans = KMeans(n_clusters=k[i]).fit(X)\n",
    "        labels[:,i] = kmeans.labels_\n",
    "    \n",
    "    return labels"
   ]
  },
  {
   "cell_type": "code",
   "execution_count": null,
   "metadata": {},
   "outputs": [],
   "source": [
    "from sklearn.decomposition import PCA\n",
    "from sklearn.manifold import Isomap\n",
    "\n",
    "\n",
    "nrDataPoints = 1000\n",
    "nrFeatures = 4\n",
    "\n",
    "X = CreateData(nrDataPoints, nrFeatures)\n",
    "\n",
    "nrFeaturesKeep = 2\n",
    "\n",
    "pca = PCA(nrFeaturesKeep)\n",
    "pca = pca.fit(X)\n",
    "\n",
    "isomap = Isomap(n_components=nrFeaturesKeep)\n",
    "isomap = isomap.fit(X)\n",
    "\n",
    "Y_PCA = pca.transform(X)\n",
    "Y_ISO = isomap.transform(X)\n"
   ]
  },
  {
   "cell_type": "code",
   "execution_count": null,
   "metadata": {},
   "outputs": [],
   "source": [
    "import matplotlib.pyplot as plt\n",
    "import matplotlib\n",
    "import numpy as np\n",
    "import random\n",
    "import math\n",
    "from sklearn.utils import shuffle\n",
    "\n",
    "def CreateData(nrDataPoints = 1000, nrFeatures = 30):\n",
    "    mean = np.zeros(nrFeatures)\n",
    "    var = np.random.rand(nrFeatures)\n",
    "    sigma = np.diag(var)\n",
    "    data = np.random.multivariate_normal(mean,sigma,nrDataPoints)\n",
    "    return data\n"
   ]
  }
 ],
 "metadata": {
  "kernelspec": {
   "display_name": "Python 3",
   "language": "python",
   "name": "python3"
  },
  "language_info": {
   "codemirror_mode": {
    "name": "ipython",
    "version": 3
   },
   "file_extension": ".py",
   "mimetype": "text/x-python",
   "name": "python",
   "nbconvert_exporter": "python",
   "pygments_lexer": "ipython3",
   "version": "3.7.3"
  }
 },
 "nbformat": 4,
 "nbformat_minor": 2
}
