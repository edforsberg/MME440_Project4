{
 "cells": [
  {
   "cell_type": "code",
   "execution_count": 50,
   "metadata": {},
   "outputs": [],
   "source": [
    "from sklearn.cluster import KMeans\n",
    "\n",
    "def Kmeans(X,k=2):\n",
    "    # Clusters data into k clusters, where k can be a vector of different integers, \n",
    "    # in which case clustering is made for each k.\n",
    "    if isinstance(k, int):\n",
    "        kmeans = KMeans(n_clusters=k).fit(X)\n",
    "        return kmeans.labels_, kmeans.inertia_\n",
    "    \n",
    "    labels = np.zeros([X.shape[0],len(k)])\n",
    "    inertia = np.zeros(len(k))\n",
    "    for i in range(len(k)):\n",
    "        kmeans = KMeans(n_clusters=k[i]).fit(X)\n",
    "        labels[:,i] = kmeans.labels_\n",
    "        inertia[i] = kmeans.inertia_\n",
    "    \n",
    "    return labels, inertia"
   ]
  },
  {
   "cell_type": "code",
   "execution_count": 68,
   "metadata": {},
   "outputs": [
    {
     "data": {
      "image/png": "[encoded data removed]",
      "text/plain": [
       "<Figure size 432x288 with 1 Axes>"
      ]
     },
     "metadata": {
      "needs_background": "light"
     },
     "output_type": "display_data"
    }
   ],
   "source": [
    "from sklearn.decomposition import PCA\n",
    "from sklearn.manifold import Isomap\n",
    "\n",
    "\n",
    "nrDataPoints = 1000\n",
    "nrFeatures = 4\n",
    "\n",
    "X = CreateData(nrDataPoints, nrFeatures)\n",
    "\n",
    "nrFeaturesKeep = 2\n",
    "\n",
    "pca = PCA(nrFeaturesKeep)\n",
    "pca = pca.fit(X)\n",
    "\n",
    "isomap = Isomap(n_components=nrFeaturesKeep)\n",
    "isomap = isomap.fit(X)\n",
    "\n",
    "Y_PCA = pca.transform(X)\n",
    "Y_ISO = isomap.transform(X)\n",
    "\n",
    "k = [1,2,3,4,5,6,7,8,9,10,11,12,13,14,15]\n",
    "\n",
    "cluster_PCA, inertia_PCA = Kmeans(Y_PCA,k)\n",
    "cluster_ISO, inertia_ISO = Kmeans(Y_ISO,k)\n",
    "PlotElbow(inertia_PCA,k)"
   ]
  },
  {
   "cell_type": "code",
   "execution_count": 8,
   "metadata": {},
   "outputs": [],
   "source": [
    "import matplotlib.pyplot as plt\n",
    "import matplotlib\n",
    "import numpy as np\n",
    "import random\n",
    "import math\n",
    "from sklearn.utils import shuffle\n",
    "\n",
    "def CreateData(nrDataPoints = 1000, nrFeatures = 30):\n",
    "    mean = np.zeros(nrFeatures)\n",
    "    var = np.random.rand(nrFeatures)\n",
    "    sigma = np.diag(var)\n",
    "    data = np.random.multivariate_normal(mean,sigma,nrDataPoints)\n",
    "    return data\n",
    "\n",
    "def CreateSphere(nrDataPoints = 1000, nrFeatures = 30):\n",
    "    "
   ]
  },
  {
   "cell_type": "code",
   "execution_count": 35,
   "metadata": {},
   "outputs": [],
   "source": [
    "from sklearn.metrics import silhouette_score\n",
    "\n",
    "def EvaluateClusteringSilhouette(X,labels):\n",
    "    if len(labels.shape)==1:\n",
    "        score = silhouette_score(X,labels)\n",
    "        return score\n",
    "    score = np.zeros(labels.shape[1])\n",
    "    for i in range(labels.shape[1]):\n",
    "        score[i] = silhouette_score(X,labels[:,i])\n",
    "    return score"
   ]
  },
  {
   "cell_type": "code",
   "execution_count": 67,
   "metadata": {},
   "outputs": [],
   "source": [
    "import matplotlib.pyplot as plt\n",
    "import matplotlib\n",
    "\n",
    "def PlotElbow(inertia,k):\n",
    "    plt.plot(k,inertia,'.-')"
   ]
  },
  {
   "cell_type": "code",
   "execution_count": 60,
   "metadata": {},
   "outputs": [
    {
     "data": {
      "text/plain": [
       "range(0, 15)"
      ]
     },
     "execution_count": 60,
     "metadata": {},
     "output_type": "execute_result"
    }
   ],
   "source": [
    "range(len(inertia_ISO))"
   ]
  },
  {
   "cell_type": "code",
   "execution_count": 42,
   "metadata": {},
   "outputs": [],
   "source": []
  },
  {
   "cell_type": "code",
   "execution_count": null,
   "metadata": {},
   "outputs": [],
   "source": []
  }
 ],
 "metadata": {
  "kernelspec": {
   "display_name": "Python 3",
   "language": "python",
   "name": "python3"
  },
  "language_info": {
   "codemirror_mode": {
    "name": "ipython",
    "version": 3
   },
   "file_extension": ".py",
   "mimetype": "text/x-python",
   "name": "python",
   "nbconvert_exporter": "python",
   "pygments_lexer": "ipython3",
   "version": "3.7.3"
  }
 },
 "nbformat": 4,
 "nbformat_minor": 2
}
