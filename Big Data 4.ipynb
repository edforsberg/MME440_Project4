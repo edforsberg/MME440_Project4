{
 "cells": [
  {
   "cell_type": "code",
   "execution_count": 1,
   "metadata": {},
   "outputs": [],
   "source": [
    "#import stuff\n",
    "\n",
    "import numpy as np\n",
    "from CreateDataFunctions import *\n",
    "import sklearn.decomposition as dec\n",
    "import matplotlib.pyplot as plt"
   ]
  },
  {
   "cell_type": "code",
   "execution_count": 4,
   "metadata": {},
   "outputs": [],
   "source": [
    "#initialize data\n",
    "\n",
    "nrObservations = 1000\n",
    "nrFeatures = 200\n",
    "seed = 30\n",
    "\n",
    "normalData = normal_data(nrObservations, nrFeatures, seed)\n",
    "uniformData = uniform_data(nrObservations, nrFeatures, seed)"
   ]
  },
  {
   "cell_type": "code",
   "execution_count": 5,
   "metadata": {},
   "outputs": [
    {
     "name": "stdout",
     "output_type": "stream",
     "text": [
      "[[0.64414354 0.38074849 0.66304791 ... 0.03627233 0.86190789 0.04770621]\n",
      " [0.42890595 0.99741096 0.69250201 ... 0.49702537 0.92923405 0.02921423]\n",
      " [0.04920976 0.34234193 0.99185205 ... 0.19796587 0.98691821 0.88486526]\n",
      " ...\n",
      " [0.84050178 0.98354691 0.19384042 ... 0.35917472 0.5579789  0.91567274]\n",
      " [0.84145683 0.19616706 0.0332312  ... 0.34035263 0.21879263 0.80537939]\n",
      " [0.87062944 0.07933762 0.57698296 ... 0.19720183 0.94870927 0.60956792]]\n"
     ]
    }
   ],
   "source": []
  }
 ],
 "metadata": {
  "kernelspec": {
   "display_name": "Python 3",
   "language": "python",
   "name": "python3"
  },
  "language_info": {
   "codemirror_mode": {
    "name": "ipython",
    "version": 3
   },
   "file_extension": ".py",
   "mimetype": "text/x-python",
   "name": "python",
   "nbconvert_exporter": "python",
   "pygments_lexer": "ipython3",
   "version": "3.7.3"
  }
 },
 "nbformat": 4,
 "nbformat_minor": 2
}
